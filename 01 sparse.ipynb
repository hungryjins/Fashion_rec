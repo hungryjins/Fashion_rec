{
  "cells": [
    {
      "cell_type": "code",
      "execution_count": null,
      "metadata": {},
      "outputs": [],
      "source": [
        "import os\n",
        "import torch\n",
        "import openai\n",
        "from sklearn.metrics.pairwise import cosine_similarity\n",
        "from text_utils import create_embeddings"
      ]
    },
    {
      "cell_type": "code",
      "execution_count": null,
      "metadata": {},
      "outputs": [],
      "source": [
        "# initialize openai\n",
        "os.environ['OPENAI_API_KEY']= \"YOUR_OPENAI_API_KEY\"\n",
        "openai.api_key = os.environ[\"OPENAI_API_KEY\"]"
      ]
    },
    {
      "cell_type": "code",
      "execution_count": null,
      "metadata": {},
      "outputs": [],
      "source": [
        "from splade.splade.models.transformer_rep import Splade\n",
        "from transformers import AutoTokenizer\n",
        "\n",
        "sparse_model_id = 'naver/splade-cocondenser-ensembledistil'\n",
        "\n",
        "# splade = 'naver/splade-v3'\n",
        "sparse_model = Splade(sparse_model_id, agg='max')\n",
        "# sparse_model.to('cpu')  # move to GPU if possible\n",
        "sparse_model.eval()\n",
        "\n",
        "splade_tokenizer = AutoTokenizer.from_pretrained(sparse_model_id)"
      ]
    },
    {
      "cell_type": "code",
      "execution_count": null,
      "metadata": {},
      "outputs": [],
      "source": [
        "def gen_sparse_vector(text):\n",
        "    tokens = splade_tokenizer(text, return_tensors=\"pt\", padding=True, truncation=True)\n",
        "\n",
        "    with torch.no_grad():\n",
        "        sparse_emb = sparse_model(\n",
        "            d_kwargs=tokens.to('cpu')\n",
        "        )['d_rep'].squeeze()\n",
        "\n",
        "    return sparse_emb"
      ]
    },
    {
      "cell_type": "code",
      "execution_count": null,
      "metadata": {},
      "outputs": [],
      "source": [
        "# input_text = \"shorts\" # synonym for pants\n",
        "input_text = \"low waist\"\n",
        "# shorts (synonym for pants)"
      ]
    },
    {
      "cell_type": "code",
      "execution_count": null,
      "metadata": {},
      "outputs": [],
      "source": [
        "texts = [\n",
        "   \"pants, silhouette_name : straight, symmetrical,silhouette_fit_name : regular (fit), waistline_name : low waist,\",\n",
        "   \"pants, silhouette_name : straight, symmetrical,silhouette_fit_name : regular (fit), geometric pattern\",\n",
        "   \"symmetrical, silhouette_fit_name : regular (fit), waistline_name : low waist,\",\n",
        "   \"symmetrical, silhouette_fit_name : regular (fit), waistline_name : high waist,\"\n",
        "]"
      ]
    },
    {
      "cell_type": "code",
      "execution_count": null,
      "metadata": {},
      "outputs": [],
      "source": [
        "s_embs = [gen_sparse_vector(t) for t in texts]\n",
        "input_s_emb = [gen_sparse_vector(input_text)]\n",
        "\n",
        "embs = create_embeddings(texts)\n",
        "input_emb = create_embeddings([input_text])"
      ]
    },
    {
      "cell_type": "code",
      "execution_count": null,
      "metadata": {},
      "outputs": [],
      "source": [
        "cosine_similarity(input_s_emb, s_embs)"
      ]
    },
    {
      "cell_type": "code",
      "execution_count": null,
      "metadata": {},
      "outputs": [],
      "source": [
        "cosine_similarity(input_emb, embs)"
      ]
    },
    {
      "cell_type": "code",
      "execution_count": null,
      "metadata": {},
      "outputs": [],
      "source": []
    },
    {
      "cell_type": "code",
      "execution_count": null,
      "metadata": {},
      "outputs": [],
      "source": []
    }
  ],
  "metadata": {
    "kernelspec": {
      "display_name": "fastcampus2",
      "language": "python",
      "name": "python3"
    },
    "language_info": {
      "codemirror_mode": {
        "name": "ipython",
        "version": 3
      },
      "file_extension": ".py",
      "mimetype": "text/x-python",
      "name": "python",
      "nbconvert_exporter": "python",
      "pygments_lexer": "ipython3",
      "version": "3.11.8"
    }
  },
  "nbformat": 4,
  "nbformat_minor": 2
}
